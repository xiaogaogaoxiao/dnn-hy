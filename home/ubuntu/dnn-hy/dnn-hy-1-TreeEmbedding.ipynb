{
 "cells": [
  {
   "cell_type": "markdown",
   "metadata": {},
   "source": [
    "共进行多项实验，只挑取几个相对合理的实验进行介绍\n",
    "\n",
    "dnn-hy 实验一 by 孟\n",
    "\n",
    "此项目所用第三方包主要包括：\n",
    "\n",
    "pandas(数据操作包，用于对于类似excel表格的各种操作)\n",
    "seaborn(数据可视化包)\n",
    "sklearn(特征工程包)\n",
    "keras(tensorflow更高一级的包, 对于简单模型，搭建十分方便)\n",
    "\n",
    "\n",
    "python内置包\n",
    "\n",
    "matplotlib(画图包)\n",
    "numpy(python内置的数学工具包)\n",
    "\n",
    "\n",
    "\n",
    "基础航班延误模型，2分类任务，下采样【-500，30】，【30-】，采用树模型惩罚来挑选重要特征，相比于不挑选重要特征效果更好(当然也取决于阈值的设定)，最终准确率66.5%左右。\n",
    "\n",
    "个人想法：如果通过树模型来挑选特征，倒不如直接训练树模型, Rf, Gbdt, Xgboost, LightGbm\n",
    "\n",
    "\n",
    "重要操作:\n",
    "\n",
    "将日转化为星期几\n",
    "\n",
    "取1/10数据进行操作\n",
    "\n",
    "进行二分类，并下采样\n",
    "\n",
    "离散变量进行one_hot编码，通过树惩罚模型挑选特征\n",
    "\n",
    "模型采取 DNN 模型， 3层， 过拟合严重， 加入 dropout 后也无明显好结果。\n",
    "\n",
    "\n"
   ]
  },
  {
   "cell_type": "code",
   "execution_count": 1,
   "metadata": {},
   "outputs": [
    {
     "name": "stderr",
     "output_type": "stream",
     "text": [
      "Using TensorFlow backend.\n",
      "/home/ubuntu/anaconda3/envs/tensorflow_p36/lib/python3.6/site-packages/matplotlib/__init__.py:1067: UserWarning: Duplicate key in file \"/home/ubuntu/.config/matplotlib/matplotlibrc\", line #2\n",
      "  (fname, cnt))\n",
      "/home/ubuntu/anaconda3/envs/tensorflow_p36/lib/python3.6/site-packages/matplotlib/__init__.py:1067: UserWarning: Duplicate key in file \"/home/ubuntu/.config/matplotlib/matplotlibrc\", line #3\n",
      "  (fname, cnt))\n"
     ]
    }
   ],
   "source": [
    "import keras"
   ]
  },
  {
   "cell_type": "code",
   "execution_count": 2,
   "metadata": {},
   "outputs": [],
   "source": [
    "from __future__ import print_function\n",
    "\n",
    "import matplotlib.pyplot as plt\n",
    "import pandas as pd\n",
    "import numpy as np\n",
    "\n",
    "import seaborn as sns\n",
    "\n",
    "from sklearn import preprocessing\n",
    "from sklearn.utils import shuffle \n",
    "from sklearn.model_selection import KFold, train_test_split\n",
    "#from sklearn.feature_selection import SelectKBest\n",
    "#from sklearn.feature_selection import chi2\n",
    "from sklearn.feature_selection import mutual_info_classif\n",
    "from sklearn.ensemble import ExtraTreesClassifier\n",
    "from sklearn.feature_selection import SelectFromModel\n",
    "\n",
    "#from keras.utils.np_utils import to_categorical\n",
    "from keras import initializers\n",
    "from keras.callbacks import Callback\n",
    "from keras.layers import Input, Dense, Dropout\n",
    "from keras.models import Model\n",
    "from keras.optimizers import Adam, RMSprop\n",
    "\n",
    "%matplotlib inline"
   ]
  },
  {
   "cell_type": "markdown",
   "metadata": {},
   "source": [
    "导入数据，通过pandas.read_feather"
   ]
  },
  {
   "cell_type": "code",
   "execution_count": 3,
   "metadata": {},
   "outputs": [],
   "source": [
    "data = pd.read_feather('/home/ubuntu/data/flight_data_7_18.feather')"
   ]
  },
  {
   "cell_type": "markdown",
   "metadata": {},
   "source": [
    "data_num  #7096761\n",
    "dropna()后 #7045804\n",
    "取 1/10 的数据进行测试, 并 shuffle"
   ]
  },
  {
   "cell_type": "code",
   "execution_count": 4,
   "metadata": {},
   "outputs": [],
   "source": [
    "data = data.dropna()\n",
    "#data = shuffle(data)\n",
    "data = data.sample(frac=0.1)\n",
    "#print(data.info())"
   ]
  },
  {
   "cell_type": "markdown",
   "metadata": {},
   "source": [
    "datatime 时间格式"
   ]
  },
  {
   "cell_type": "code",
   "execution_count": 5,
   "metadata": {},
   "outputs": [
    {
     "data": {
      "text/plain": [
       "430171    2015-06-22 11:45:00+08:00\n",
       "963431    2015-08-19 22:50:00+08:00\n",
       "1578318   2015-10-27 10:10:00+08:00\n",
       "6936296   2017-05-16 11:45:00+08:00\n",
       "1301572   2015-09-26 11:35:00+08:00\n",
       "Name: sch_dep_time, dtype: datetime64[ns, Asia/Shanghai]"
      ]
     },
     "execution_count": 5,
     "metadata": {},
     "output_type": "execute_result"
    }
   ],
   "source": [
    "data['sch_dep_time'].head()"
   ]
  },
  {
   "cell_type": "markdown",
   "metadata": {},
   "source": [
    "做切片操作， 分别为 年，月，日，时"
   ]
  },
  {
   "cell_type": "code",
   "execution_count": 6,
   "metadata": {},
   "outputs": [],
   "source": [
    "data['sch_time_year'] = data['sch_dep_time'].map(lambda x: x.year)\n",
    "data['sch_time_month'] = data['sch_dep_time'].map(lambda x: x.month)\n",
    "data['sch_time_day'] = data['sch_dep_time'].map(lambda x: x.day)\n",
    "data['sch_time_hour'] = data['sch_dep_time'].map(lambda x: x.hour)"
   ]
  },
  {
   "cell_type": "markdown",
   "metadata": {},
   "source": [
    "将 日 转换成 星期几"
   ]
  },
  {
   "cell_type": "code",
   "execution_count": 7,
   "metadata": {},
   "outputs": [],
   "source": [
    "data['sch_time_year'] = (data['sch_time_year'].map(lambda x: int(str(x)[2:])))\n",
    "month_num = {1:6, 2:2, 3:2, 4:5, 5:0, 6:3, 7:5, 8:1, 9:4, 10:6, 11:2, 12:4}\n",
    "data['year_num'] = data['sch_time_year'].map(lambda x: (int(x / 4) + x) % 7)\n",
    "data['month_num']=  data['sch_time_month'].map(lambda x: month_num[x])\n",
    "data['day_num'] = data['sch_time_day']\n",
    "data['sch_time_day'] = data.apply(lambda x: (x['year_num'] + x['month_num'] + x['day_num'])%7, axis=1)\n",
    "time_drop = ['year_num', 'month_num', 'day_num']\n",
    "data = data.drop(time_drop,axis=1)"
   ]
  },
  {
   "cell_type": "markdown",
   "metadata": {},
   "source": [
    "时 3个小时一个区间"
   ]
  },
  {
   "cell_type": "code",
   "execution_count": 8,
   "metadata": {},
   "outputs": [],
   "source": [
    "data['sch_time_hour'] = data['sch_time_hour'].map(lambda x: 24 if x==0 else x)\n",
    "for i in range(8):  #每3个小时一个区间\n",
    "    data['sch_time_hour'] = data['sch_time_hour'].map(lambda x: 0+i if x>0+3*i and x<=3+3*i else x)"
   ]
  },
  {
   "cell_type": "markdown",
   "metadata": {},
   "source": [
    "feature, label 分离"
   ]
  },
  {
   "cell_type": "code",
   "execution_count": 9,
   "metadata": {},
   "outputs": [],
   "source": [
    "lb = ['delay_cat']\n",
    "label = data[lb]\n",
    "data = data.drop(lb, axis=1)\n",
    "data = data.drop('sch_dep_time', axis=1)"
   ]
  },
  {
   "cell_type": "markdown",
   "metadata": {},
   "source": [
    "对 float 数据进行 normalization"
   ]
  },
  {
   "cell_type": "code",
   "execution_count": 10,
   "metadata": {},
   "outputs": [],
   "source": [
    "data1 = data.iloc[:,3:24]\n",
    "\n",
    "data2 = data.iloc[:,0:3]\n",
    "data3 = data.iloc[:,24:]\n",
    "data2 = pd.concat([data2, data3], axis=1)\n",
    "#print(data1.columns, data2.columns)\n",
    "data1 = (data1 - data1.mean()) / data1.std()\n",
    "#print(data.std())"
   ]
  },
  {
   "cell_type": "code",
   "execution_count": 11,
   "metadata": {},
   "outputs": [],
   "source": [
    "data = pd.concat([data1, data2], axis=1)\n",
    "data_train = data\n",
    "label_train = label"
   ]
  },
  {
   "cell_type": "code",
   "execution_count": 12,
   "metadata": {},
   "outputs": [
    {
     "data": {
      "text/html": [
       "<div>\n",
       "<style scoped>\n",
       "    .dataframe tbody tr th:only-of-type {\n",
       "        vertical-align: middle;\n",
       "    }\n",
       "\n",
       "    .dataframe tbody tr th {\n",
       "        vertical-align: top;\n",
       "    }\n",
       "\n",
       "    .dataframe thead th {\n",
       "        text-align: right;\n",
       "    }\n",
       "</style>\n",
       "<table border=\"1\" class=\"dataframe\">\n",
       "  <thead>\n",
       "    <tr style=\"text-align: right;\">\n",
       "      <th></th>\n",
       "      <th>delay_cat</th>\n",
       "    </tr>\n",
       "  </thead>\n",
       "  <tbody>\n",
       "    <tr>\n",
       "      <th>430171</th>\n",
       "      <td>[-500,30)</td>\n",
       "    </tr>\n",
       "    <tr>\n",
       "      <th>963431</th>\n",
       "      <td>[60,90)</td>\n",
       "    </tr>\n",
       "    <tr>\n",
       "      <th>1578318</th>\n",
       "      <td>[-500,30)</td>\n",
       "    </tr>\n",
       "    <tr>\n",
       "      <th>6936296</th>\n",
       "      <td>[-500,30)</td>\n",
       "    </tr>\n",
       "    <tr>\n",
       "      <th>1301572</th>\n",
       "      <td>[-500,30)</td>\n",
       "    </tr>\n",
       "  </tbody>\n",
       "</table>\n",
       "</div>"
      ],
      "text/plain": [
       "         delay_cat\n",
       "430171   [-500,30)\n",
       "963431     [60,90)\n",
       "1578318  [-500,30)\n",
       "6936296  [-500,30)\n",
       "1301572  [-500,30)"
      ]
     },
     "execution_count": 12,
     "metadata": {},
     "output_type": "execute_result"
    }
   ],
   "source": [
    "label_train.head()"
   ]
  },
  {
   "cell_type": "markdown",
   "metadata": {},
   "source": [
    "二分类"
   ]
  },
  {
   "cell_type": "code",
   "execution_count": 13,
   "metadata": {},
   "outputs": [
    {
     "name": "stderr",
     "output_type": "stream",
     "text": [
      "/home/ubuntu/anaconda3/envs/tensorflow_p36/lib/python3.6/site-packages/pandas/core/indexing.py:194: SettingWithCopyWarning: \n",
      "A value is trying to be set on a copy of a slice from a DataFrame\n",
      "\n",
      "See the caveats in the documentation: http://pandas.pydata.org/pandas-docs/stable/indexing.html#indexing-view-versus-copy\n",
      "  self._setitem_with_indexer(indexer, value)\n"
     ]
    }
   ],
   "source": [
    "label_train['feat1'] = 0\n",
    "label_train['feat1'].loc[label.delay_cat == '[-500,30)'] = 1\n",
    "label_train['feat2'] = 0\n",
    "label_train['feat2'].loc[label.delay_cat != '[-500,30)'] = 1\n",
    "label_train = label_train.loc[:, ['feat1', 'feat2']]"
   ]
  },
  {
   "cell_type": "markdown",
   "metadata": {},
   "source": [
    "样本分布不均衡，采取降采样，使得正负样本数量 1：1"
   ]
  },
  {
   "cell_type": "code",
   "execution_count": 14,
   "metadata": {},
   "outputs": [
    {
     "data": {
      "text/plain": [
       "1    482397\n",
       "0    222183\n",
       "Name: feat1, dtype: int64"
      ]
     },
     "execution_count": 14,
     "metadata": {},
     "output_type": "execute_result"
    }
   ],
   "source": [
    "data = pd.concat([data_train, label_train], axis=1)\n",
    "data['feat1'].value_counts()"
   ]
  },
  {
   "cell_type": "code",
   "execution_count": 15,
   "metadata": {},
   "outputs": [],
   "source": [
    "from sklearn.utils import resample\n",
    "\n",
    "data_majority = data[data.feat1==1]\n",
    "data_minority = data[data.feat1==0]\n",
    "data_majority_downsampled = resample(data_majority,\n",
    "                                     replace=False,    # sample without replacement\n",
    "                                     n_samples=222474,     # to match minority class\n",
    "                                     random_state=1) # reproducible results\n",
    "data_downsampled = pd.concat([data_majority_downsampled, data_minority])"
   ]
  },
  {
   "cell_type": "code",
   "execution_count": 16,
   "metadata": {},
   "outputs": [],
   "source": [
    "data_downsampled = shuffle(data_downsampled)\n",
    "lb = ['feat1', 'feat2']\n",
    "label_train = data_downsampled[lb]\n",
    "data_train = data_downsampled.drop(lb, axis=1)"
   ]
  },
  {
   "cell_type": "markdown",
   "metadata": {},
   "source": [
    "对离散量进行 one_hot 编码"
   ]
  },
  {
   "cell_type": "code",
   "execution_count": 17,
   "metadata": {},
   "outputs": [],
   "source": [
    "one_hot = ['sch_time_year','sch_time_month','sch_time_day','sch_time_hour','origin_airport','dest_airport','airline']\n",
    "#db = ['origin_airport','dest_airport','airline']\n",
    "#data_train = data_train.drop(db, axis=1)\n",
    "data_train = pd.get_dummies(data_train, columns=one_hot)"
   ]
  },
  {
   "cell_type": "markdown",
   "metadata": {},
   "source": [
    "数据记录 \n",
    "0-47 时间以及天气特征\n",
    "47-266 起飞机场名称\n",
    "267-484 降落机场名称\n",
    "485- 航线名称"
   ]
  },
  {
   "cell_type": "code",
   "execution_count": 18,
   "metadata": {},
   "outputs": [],
   "source": [
    "#data_train.columns[200:266]  #47--266 Origin\n",
    "#data_train.columns[466:484]   #267-484 dest\n",
    "#data_train.columns[485:]   #airline\n",
    "#data_2 = data_train.iloc[:,200:]\n",
    "#data_1 = data_train.iloc[:,:200]"
   ]
  },
  {
   "cell_type": "markdown",
   "metadata": {},
   "source": [
    "由于特征之间关系为非线性关系，所以通过树惩罚模型来选择重要特征"
   ]
  },
  {
   "cell_type": "code",
   "execution_count": 19,
   "metadata": {},
   "outputs": [],
   "source": [
    "clf = ExtraTreesClassifier()\n",
    "clf = clf.fit(data_train, label_train)"
   ]
  },
  {
   "cell_type": "code",
   "execution_count": 20,
   "metadata": {},
   "outputs": [],
   "source": [
    "#sns.set(rc={'figure.figsize':(25,20)})\n",
    "#delay_hm = sns.heatmap(airports_df_delay_drops, annot=True, fmt=\"d\")\n",
    "# delay_hm = sns.set(rc={'figure.figsize':(22,22)})\n",
    "#plt.show()"
   ]
  },
  {
   "cell_type": "markdown",
   "metadata": {},
   "source": [
    "选择合适的重要性阈值 importance 来筛选特征"
   ]
  },
  {
   "cell_type": "code",
   "execution_count": 21,
   "metadata": {},
   "outputs": [
    {
     "data": {
      "text/plain": [
       "(array([  0,   1,   2,   3,   4,   5,   6,   7,   8,   9,  10,  11,  12,\n",
       "         13,  14,  15,  16,  17,  18,  19,  20,  21,  22,  23,  24,  25,\n",
       "         26,  27,  28,  29,  30,  31,  32,  33,  34,  35,  36,  37,  38,\n",
       "         39,  40,  41,  42,  43,  44,  45,  46,  47,  48,  49,  50,  51,\n",
       "         52,  53,  55,  56,  57,  58,  59,  60,  61,  62,  63,  64,  65,\n",
       "         66,  67,  68,  69,  70,  71,  72,  73,  74,  75,  76,  77,  79,\n",
       "         80,  81,  83,  84,  85,  86,  87,  88,  89,  90,  91,  92,  93,\n",
       "         94,  95,  96,  97,  98,  99, 100, 101, 103, 104, 105, 106, 107,\n",
       "        108, 109, 110, 111, 112, 113, 114, 115, 116, 117, 118, 119, 120,\n",
       "        121, 122, 123, 125, 127, 128, 129, 130, 132, 133, 134, 135, 136,\n",
       "        137, 138, 139, 140, 142, 143, 144, 145, 146, 147, 148, 149, 150,\n",
       "        151, 152, 153, 154, 155, 156, 157, 158, 159, 160, 161, 162, 163,\n",
       "        164, 165, 166, 167, 168, 169, 170, 171, 172, 173, 174, 175, 176,\n",
       "        177, 178, 179, 180, 181, 182, 183, 184, 185, 186, 187, 188, 189,\n",
       "        190, 191, 192, 193, 194, 196, 197, 198, 199, 200, 201, 202, 203,\n",
       "        204, 205, 206, 207, 208, 209, 210, 211, 212, 213, 214, 215, 216,\n",
       "        217, 218, 219, 220, 221, 222, 223, 224, 225, 226, 227, 228, 229,\n",
       "        230, 231, 232, 233, 234, 235, 236, 237, 238, 239, 240, 241, 242,\n",
       "        243, 244, 245, 246, 247, 248, 250, 251, 252, 253, 254, 255, 256,\n",
       "        257, 258, 259, 260, 261, 262, 263, 264, 265, 266, 267, 268, 269,\n",
       "        270, 271, 272, 273, 274, 275, 276, 277, 278, 279, 280, 281, 282,\n",
       "        283, 284, 285, 286, 287, 288, 289, 290, 291, 292, 293, 294, 295,\n",
       "        296, 298, 299, 300, 302, 303, 304, 305, 306, 307, 308, 309, 310,\n",
       "        311, 312, 313, 314, 315, 316, 317, 318, 319, 320, 322, 323, 324,\n",
       "        325, 326, 327, 328, 329, 330, 331, 332, 333, 334, 335, 336, 337,\n",
       "        338, 339, 340, 341, 342, 344, 346, 347, 348, 349, 351, 352, 353,\n",
       "        354, 355, 356, 357, 358, 359, 360, 361, 362, 363, 364, 365, 366,\n",
       "        367, 368, 369, 370, 371, 372, 373, 374, 375, 376, 377, 378, 379,\n",
       "        380, 381, 382, 383, 384, 385, 386, 387, 388, 389, 390, 391, 392,\n",
       "        393, 394, 395, 396, 397, 398, 399, 400, 401, 402, 403, 404, 405,\n",
       "        406, 407, 408, 409, 410, 411, 412, 414, 415, 416, 417, 418, 419,\n",
       "        420, 421, 422, 423, 424, 425, 426, 428, 429, 430, 431, 432, 433,\n",
       "        434, 435, 436, 437, 438, 439, 440, 441, 442, 443, 444, 445, 446,\n",
       "        447, 448, 449, 450, 451, 452, 453, 454, 455, 456, 457, 458, 459,\n",
       "        460, 461, 462, 463, 464, 465, 466, 467, 469, 470, 471, 472, 473,\n",
       "        474, 475, 476, 477, 478, 479, 480, 481, 482, 483, 484, 485, 486,\n",
       "        487, 488, 489, 490, 491, 492, 493, 494, 495, 496, 497, 498, 499,\n",
       "        500, 501, 502, 503, 504, 505, 506, 507, 508, 509, 510, 511, 512,\n",
       "        513, 514, 515, 516, 517, 518, 519, 520, 521, 522, 523, 524, 525,\n",
       "        526, 527, 528, 529]),)"
      ]
     },
     "execution_count": 21,
     "metadata": {},
     "output_type": "execute_result"
    }
   ],
   "source": [
    "importance = clf.feature_importances_ \n",
    "for i in range(len(importance)):\n",
    "    if importance[i]>=1e-1 or importance[i]<=1e-5:\n",
    "        importance[i] = 0\n",
    "feature_importance_index = np.where(importance!=0)\n",
    "feature_importance_index\n",
    "#len(feature_importance_index)"
   ]
  },
  {
   "cell_type": "code",
   "execution_count": 22,
   "metadata": {},
   "outputs": [],
   "source": [
    "feature_importance_index = np.squeeze(np.array(feature_importance_index))"
   ]
  },
  {
   "cell_type": "markdown",
   "metadata": {},
   "source": [
    "train, test 分离"
   ]
  },
  {
   "cell_type": "code",
   "execution_count": 23,
   "metadata": {},
   "outputs": [],
   "source": [
    "data_train, data_test, label_train, label_test = train_test_split(data_train, label_train, test_size=0.2, random_state=2)"
   ]
  },
  {
   "cell_type": "code",
   "execution_count": 24,
   "metadata": {},
   "outputs": [
    {
     "data": {
      "text/plain": [
       "<matplotlib.axes._subplots.AxesSubplot at 0x7f4347725a20>"
      ]
     },
     "execution_count": 24,
     "metadata": {},
     "output_type": "execute_result"
    },
    {
     "data": {
      "image/png": "[encoded data removed]",
      "text/plain": [
       "<Figure size 432x288 with 1 Axes>"
      ]
     },
     "metadata": {},
     "output_type": "display_data"
    }
   ],
   "source": [
    "label_train.sum().plot.bar()"
   ]
  },
  {
   "cell_type": "markdown",
   "metadata": {},
   "source": [
    "画 train , validation 的 loss, accuracy 图"
   ]
  },
  {
   "cell_type": "code",
   "execution_count": 25,
   "metadata": {},
   "outputs": [],
   "source": [
    "class LossHistory(Callback):\n",
    "    def on_train_begin(self, logs={}):\n",
    "        self.losses = {'batch':[], 'epoch':[]}\n",
    "        self.accuracy = {'batch':[], 'epoch':[]}\n",
    "        self.val_loss = {'batch':[], 'epoch':[]}\n",
    "        self.val_acc = {'batch':[], 'epoch':[]}\n",
    "\n",
    "    def on_batch_end(self, batch, logs={}):\n",
    "        self.losses['batch'].append(logs.get('loss'))\n",
    "        self.accuracy['batch'].append(logs.get('acc'))\n",
    "        self.val_loss['batch'].append(logs.get('val_loss'))\n",
    "        self.val_acc['batch'].append(logs.get('val_acc'))\n",
    "\n",
    "    def on_epoch_end(self, epoch, logs={}):\n",
    "        self.losses['epoch'].append(logs.get('loss'))\n",
    "        self.accuracy['epoch'].append(logs.get('acc'))\n",
    "        self.val_loss['epoch'].append(logs.get('val_loss'))\n",
    "        self.val_acc['epoch'].append(logs.get('val_acc'))\n",
    "\n",
    "    def loss_plot(self, loss_type):\n",
    "        iters = range(len(self.losses[loss_type]))\n",
    "        plt.figure()\n",
    "        # acc\n",
    "        plt.plot(iters, self.accuracy[loss_type], 'r', label='train acc')\n",
    "        # loss\n",
    "        plt.plot(iters, self.losses[loss_type], 'g', label='train loss')\n",
    "        if loss_type == 'epoch':\n",
    "            # val_acc\n",
    "            plt.plot(iters, self.val_acc[loss_type], 'b', label='val acc')\n",
    "            # val_loss\n",
    "            plt.plot(iters, self.val_loss[loss_type], 'k', label='val loss')\n",
    "        plt.grid(True)\n",
    "        plt.xlabel(loss_type)\n",
    "        plt.ylabel('acc-loss')\n",
    "        plt.legend(loc=\"upper right\")\n",
    "        plt.show()"
   ]
  },
  {
   "cell_type": "markdown",
   "metadata": {},
   "source": [
    "nn model, 简单的 3 层依然会过拟合"
   ]
  },
  {
   "cell_type": "code",
   "execution_count": 26,
   "metadata": {},
   "outputs": [],
   "source": [
    "from keras.optimizers import SGD\n",
    "\n",
    "input_size = len(data_train.columns)\n",
    "\n",
    "inputs = Input(shape=(input_size,))\n",
    "\n",
    "# a layer instance is callable on a tensor, and returns a tensor\n",
    "x = Dense(128, activation='relu')(inputs)\n",
    "#x = Dropout(0.5)(x)\n",
    "#x = Dense(64, activation='relu')(x)\n",
    "x = Dense(64, activation='relu', kernel_initializer=initializers.TruncatedNormal(mean=0.0, stddev=0.05, seed=None))(x)\n",
    "#x = Dense(128, activation='relu')(x)\n",
    "#x = Dense(1024, activation='relu')(x)\n",
    "x = Dropout(0.5)(x)\n",
    "predictions = Dense(2, activation='softmax', name='ou')(x)\n",
    "\n",
    "# This creates a model that includes\n",
    "# the Input layer and three Dense layers\n",
    "model = Model(inputs=inputs, outputs=predictions)\n",
    "\n",
    "optimizer = RMSprop(lr=0.0001)\n",
    "model.compile(optimizer=optimizer,\n",
    "              loss='categorical_crossentropy',\n",
    "              metrics=['accuracy'])"
   ]
  },
  {
   "cell_type": "code",
   "execution_count": 27,
   "metadata": {},
   "outputs": [],
   "source": [
    "history = LossHistory()"
   ]
  },
  {
   "cell_type": "code",
   "execution_count": 28,
   "metadata": {},
   "outputs": [
    {
     "name": "stdout",
     "output_type": "stream",
     "text": [
      "Train on 284580 samples, validate on 71145 samples\n",
      "Epoch 1/100\n",
      "284580/284580 [==============================] - 7s 26us/step - loss: 0.6625 - acc: 0.6007 - val_loss: 0.6404 - val_acc: 0.6303\n",
      "Epoch 2/100\n",
      "284580/284580 [==============================] - 7s 24us/step - loss: 0.6407 - acc: 0.6308 - val_loss: 0.6309 - val_acc: 0.6401\n",
      "Epoch 3/100\n",
      "284580/284580 [==============================] - 7s 24us/step - loss: 0.6334 - acc: 0.6400 - val_loss: 0.6261 - val_acc: 0.6462\n",
      "Epoch 4/100\n",
      "284580/284580 [==============================] - 7s 24us/step - loss: 0.6291 - acc: 0.6442 - val_loss: 0.6234 - val_acc: 0.6486\n",
      "Epoch 5/100\n",
      "284580/284580 [==============================] - 7s 24us/step - loss: 0.6257 - acc: 0.6478 - val_loss: 0.6214 - val_acc: 0.6509\n",
      "Epoch 6/100\n",
      "284580/284580 [==============================] - 7s 24us/step - loss: 0.6230 - acc: 0.6511 - val_loss: 0.6196 - val_acc: 0.6528\n",
      "Epoch 7/100\n",
      "284580/284580 [==============================] - 7s 24us/step - loss: 0.6207 - acc: 0.6542 - val_loss: 0.6181 - val_acc: 0.6548\n",
      "Epoch 8/100\n",
      "284580/284580 [==============================] - 7s 24us/step - loss: 0.6182 - acc: 0.6565 - val_loss: 0.6167 - val_acc: 0.6562\n",
      "Epoch 9/100\n",
      "284580/284580 [==============================] - 7s 24us/step - loss: 0.6162 - acc: 0.6587 - val_loss: 0.6158 - val_acc: 0.6589\n",
      "Epoch 10/100\n",
      "284580/284580 [==============================] - 7s 24us/step - loss: 0.6142 - acc: 0.6608 - val_loss: 0.6148 - val_acc: 0.6581\n",
      "Epoch 11/100\n",
      "284580/284580 [==============================] - 7s 24us/step - loss: 0.6127 - acc: 0.6629 - val_loss: 0.6140 - val_acc: 0.6589\n",
      "Epoch 12/100\n",
      "284580/284580 [==============================] - 8s 27us/step - loss: 0.6111 - acc: 0.6642 - val_loss: 0.6130 - val_acc: 0.6605\n",
      "Epoch 13/100\n",
      "284580/284580 [==============================] - 8s 29us/step - loss: 0.6094 - acc: 0.6662 - val_loss: 0.6122 - val_acc: 0.6618\n",
      "Epoch 14/100\n",
      "284580/284580 [==============================] - 9s 31us/step - loss: 0.6082 - acc: 0.6671 - val_loss: 0.6116 - val_acc: 0.6634\n",
      "Epoch 15/100\n",
      "284580/284580 [==============================] - 7s 24us/step - loss: 0.6068 - acc: 0.6688 - val_loss: 0.6109 - val_acc: 0.6644\n",
      "Epoch 16/100\n",
      "284580/284580 [==============================] - 7s 26us/step - loss: 0.6051 - acc: 0.6705 - val_loss: 0.6104 - val_acc: 0.6642\n",
      "Epoch 17/100\n",
      "284580/284580 [==============================] - 8s 28us/step - loss: 0.6038 - acc: 0.6725 - val_loss: 0.6103 - val_acc: 0.6653\n",
      "Epoch 18/100\n",
      "284580/284580 [==============================] - 8s 28us/step - loss: 0.6027 - acc: 0.6736 - val_loss: 0.6105 - val_acc: 0.6649\n",
      "Epoch 19/100\n",
      "284580/284580 [==============================] - 8s 29us/step - loss: 0.6019 - acc: 0.6741 - val_loss: 0.6096 - val_acc: 0.6668\n",
      "Epoch 20/100\n",
      "284580/284580 [==============================] - 8s 28us/step - loss: 0.6001 - acc: 0.6754 - val_loss: 0.6092 - val_acc: 0.6657\n",
      "Epoch 21/100\n",
      "284580/284580 [==============================] - 8s 28us/step - loss: 0.5992 - acc: 0.6768 - val_loss: 0.6087 - val_acc: 0.6668\n",
      "Epoch 22/100\n",
      "284580/284580 [==============================] - 8s 28us/step - loss: 0.5979 - acc: 0.6786 - val_loss: 0.6091 - val_acc: 0.6677\n",
      "Epoch 23/100\n",
      "284580/284580 [==============================] - 8s 29us/step - loss: 0.5969 - acc: 0.6792 - val_loss: 0.6081 - val_acc: 0.6682\n",
      "Epoch 24/100\n",
      "284580/284580 [==============================] - 8s 28us/step - loss: 0.5960 - acc: 0.6798 - val_loss: 0.6080 - val_acc: 0.6676\n",
      "Epoch 25/100\n",
      "284580/284580 [==============================] - 8s 28us/step - loss: 0.5949 - acc: 0.6806 - val_loss: 0.6080 - val_acc: 0.6678\n",
      "Epoch 26/100\n",
      "284580/284580 [==============================] - 8s 28us/step - loss: 0.5935 - acc: 0.6820 - val_loss: 0.6077 - val_acc: 0.6686\n",
      "Epoch 27/100\n",
      "284580/284580 [==============================] - 8s 28us/step - loss: 0.5931 - acc: 0.6820 - val_loss: 0.6077 - val_acc: 0.6695\n",
      "Epoch 28/100\n",
      "284580/284580 [==============================] - 8s 28us/step - loss: 0.5920 - acc: 0.6834 - val_loss: 0.6082 - val_acc: 0.6690\n",
      "Epoch 29/100\n",
      "284580/284580 [==============================] - 8s 28us/step - loss: 0.5911 - acc: 0.6843 - val_loss: 0.6074 - val_acc: 0.6693\n",
      "Epoch 30/100\n",
      "284580/284580 [==============================] - 8s 28us/step - loss: 0.5904 - acc: 0.6854 - val_loss: 0.6080 - val_acc: 0.6690\n",
      "Epoch 31/100\n",
      "284580/284580 [==============================] - 8s 28us/step - loss: 0.5892 - acc: 0.6862 - val_loss: 0.6079 - val_acc: 0.6687\n",
      "Epoch 32/100\n",
      "284580/284580 [==============================] - 8s 28us/step - loss: 0.5889 - acc: 0.6864 - val_loss: 0.6078 - val_acc: 0.6696\n",
      "Epoch 33/100\n",
      "284580/284580 [==============================] - 8s 29us/step - loss: 0.5874 - acc: 0.6871 - val_loss: 0.6078 - val_acc: 0.6689\n",
      "Epoch 34/100\n",
      "284580/284580 [==============================] - 8s 28us/step - loss: 0.5870 - acc: 0.6873 - val_loss: 0.6077 - val_acc: 0.6698\n",
      "Epoch 35/100\n",
      "284580/284580 [==============================] - 8s 28us/step - loss: 0.5863 - acc: 0.6888 - val_loss: 0.6085 - val_acc: 0.6698\n",
      "Epoch 36/100\n",
      "284580/284580 [==============================] - 8s 29us/step - loss: 0.5856 - acc: 0.6890 - val_loss: 0.6080 - val_acc: 0.6703\n",
      "Epoch 37/100\n",
      "284580/284580 [==============================] - 8s 28us/step - loss: 0.5850 - acc: 0.6891 - val_loss: 0.6080 - val_acc: 0.6697\n",
      "Epoch 38/100\n",
      "284580/284580 [==============================] - 8s 29us/step - loss: 0.5842 - acc: 0.6900 - val_loss: 0.6082 - val_acc: 0.6704\n",
      "Epoch 39/100\n",
      "284580/284580 [==============================] - 8s 28us/step - loss: 0.5834 - acc: 0.6904 - val_loss: 0.6084 - val_acc: 0.6702\n",
      "Epoch 40/100\n",
      "284580/284580 [==============================] - 8s 28us/step - loss: 0.5828 - acc: 0.6923 - val_loss: 0.6084 - val_acc: 0.6695\n",
      "Epoch 41/100\n",
      "284580/284580 [==============================] - 8s 28us/step - loss: 0.5823 - acc: 0.6918 - val_loss: 0.6086 - val_acc: 0.6699\n",
      "Epoch 42/100\n",
      "284580/284580 [==============================] - 8s 28us/step - loss: 0.5818 - acc: 0.6926 - val_loss: 0.6083 - val_acc: 0.6708\n",
      "Epoch 43/100\n",
      "284580/284580 [==============================] - 8s 29us/step - loss: 0.5809 - acc: 0.6927 - val_loss: 0.6086 - val_acc: 0.6696\n",
      "Epoch 44/100\n",
      "284580/284580 [==============================] - 8s 28us/step - loss: 0.5801 - acc: 0.6936 - val_loss: 0.6088 - val_acc: 0.6695\n",
      "Epoch 45/100\n",
      "284580/284580 [==============================] - 8s 28us/step - loss: 0.5796 - acc: 0.6936 - val_loss: 0.6102 - val_acc: 0.6689\n",
      "Epoch 46/100\n",
      "284580/284580 [==============================] - 8s 28us/step - loss: 0.5792 - acc: 0.6943 - val_loss: 0.6104 - val_acc: 0.6698\n",
      "Epoch 47/100\n",
      "284580/284580 [==============================] - 8s 28us/step - loss: 0.5785 - acc: 0.6951 - val_loss: 0.6088 - val_acc: 0.6699\n",
      "Epoch 48/100\n",
      "284580/284580 [==============================] - 8s 28us/step - loss: 0.5780 - acc: 0.6956 - val_loss: 0.6097 - val_acc: 0.6690\n",
      "Epoch 49/100\n",
      "284580/284580 [==============================] - 8s 28us/step - loss: 0.5773 - acc: 0.6961 - val_loss: 0.6108 - val_acc: 0.6692\n",
      "Epoch 50/100\n",
      "284580/284580 [==============================] - 8s 28us/step - loss: 0.5769 - acc: 0.6959 - val_loss: 0.6109 - val_acc: 0.6687\n",
      "Epoch 51/100\n",
      "284580/284580 [==============================] - 8s 28us/step - loss: 0.5766 - acc: 0.6962 - val_loss: 0.6099 - val_acc: 0.6700\n",
      "Epoch 52/100\n",
      "284580/284580 [==============================] - 8s 29us/step - loss: 0.5760 - acc: 0.6966 - val_loss: 0.6102 - val_acc: 0.6686\n",
      "Epoch 53/100\n",
      "284580/284580 [==============================] - 8s 28us/step - loss: 0.5752 - acc: 0.6975 - val_loss: 0.6101 - val_acc: 0.6694\n",
      "Epoch 54/100\n",
      "284580/284580 [==============================] - 8s 28us/step - loss: 0.5746 - acc: 0.6979 - val_loss: 0.6105 - val_acc: 0.6688\n",
      "Epoch 55/100\n",
      "284580/284580 [==============================] - 8s 28us/step - loss: 0.5739 - acc: 0.6980 - val_loss: 0.6109 - val_acc: 0.6697\n",
      "Epoch 56/100\n",
      "284580/284580 [==============================] - 8s 28us/step - loss: 0.5732 - acc: 0.6993 - val_loss: 0.6130 - val_acc: 0.6690\n",
      "Epoch 57/100\n",
      "284580/284580 [==============================] - 8s 28us/step - loss: 0.5733 - acc: 0.6989 - val_loss: 0.6113 - val_acc: 0.6694\n",
      "Epoch 58/100\n",
      "284580/284580 [==============================] - 8s 28us/step - loss: 0.5728 - acc: 0.7000 - val_loss: 0.6127 - val_acc: 0.6691\n"
     ]
    },
    {
     "name": "stdout",
     "output_type": "stream",
     "text": [
      "Epoch 59/100\n",
      "284580/284580 [==============================] - 8s 28us/step - loss: 0.5725 - acc: 0.7000 - val_loss: 0.6122 - val_acc: 0.6698\n",
      "Epoch 60/100\n",
      "284580/284580 [==============================] - 8s 28us/step - loss: 0.5721 - acc: 0.7002 - val_loss: 0.6121 - val_acc: 0.6681\n",
      "Epoch 61/100\n",
      "284580/284580 [==============================] - 8s 28us/step - loss: 0.5716 - acc: 0.6999 - val_loss: 0.6130 - val_acc: 0.6689\n",
      "Epoch 62/100\n",
      "284580/284580 [==============================] - 8s 28us/step - loss: 0.5711 - acc: 0.7009 - val_loss: 0.6126 - val_acc: 0.6688\n",
      "Epoch 63/100\n",
      "284580/284580 [==============================] - 8s 28us/step - loss: 0.5706 - acc: 0.7012 - val_loss: 0.6121 - val_acc: 0.6686\n",
      "Epoch 64/100\n",
      "284580/284580 [==============================] - 8s 28us/step - loss: 0.5697 - acc: 0.7021 - val_loss: 0.6136 - val_acc: 0.6684\n",
      "Epoch 65/100\n",
      "284580/284580 [==============================] - 8s 28us/step - loss: 0.5700 - acc: 0.7021 - val_loss: 0.6126 - val_acc: 0.6693\n",
      "Epoch 66/100\n",
      "284580/284580 [==============================] - 8s 29us/step - loss: 0.5691 - acc: 0.7019 - val_loss: 0.6139 - val_acc: 0.6682\n",
      "Epoch 67/100\n",
      "284580/284580 [==============================] - 8s 28us/step - loss: 0.5686 - acc: 0.7026 - val_loss: 0.6148 - val_acc: 0.6684\n",
      "Epoch 68/100\n",
      "284580/284580 [==============================] - 8s 28us/step - loss: 0.5682 - acc: 0.7028 - val_loss: 0.6131 - val_acc: 0.6687\n",
      "Epoch 69/100\n",
      "284580/284580 [==============================] - 8s 28us/step - loss: 0.5681 - acc: 0.7026 - val_loss: 0.6138 - val_acc: 0.6684\n",
      "Epoch 70/100\n",
      "284580/284580 [==============================] - 8s 28us/step - loss: 0.5674 - acc: 0.7039 - val_loss: 0.6147 - val_acc: 0.6683\n",
      "Epoch 71/100\n",
      "284580/284580 [==============================] - 8s 28us/step - loss: 0.5671 - acc: 0.7040 - val_loss: 0.6146 - val_acc: 0.6681\n",
      "Epoch 72/100\n",
      "284580/284580 [==============================] - 8s 28us/step - loss: 0.5670 - acc: 0.7035 - val_loss: 0.6152 - val_acc: 0.6679\n",
      "Epoch 73/100\n",
      "284580/284580 [==============================] - 8s 28us/step - loss: 0.5662 - acc: 0.7043 - val_loss: 0.6173 - val_acc: 0.6676\n",
      "Epoch 74/100\n",
      "284580/284580 [==============================] - 8s 28us/step - loss: 0.5659 - acc: 0.7049 - val_loss: 0.6158 - val_acc: 0.6681\n",
      "Epoch 75/100\n",
      "284580/284580 [==============================] - 8s 28us/step - loss: 0.5661 - acc: 0.7051 - val_loss: 0.6157 - val_acc: 0.6682\n",
      "Epoch 76/100\n",
      "284580/284580 [==============================] - 8s 29us/step - loss: 0.5653 - acc: 0.7057 - val_loss: 0.6172 - val_acc: 0.6686\n",
      "Epoch 77/100\n",
      "284580/284580 [==============================] - 8s 28us/step - loss: 0.5652 - acc: 0.7058 - val_loss: 0.6172 - val_acc: 0.6680\n",
      "Epoch 78/100\n",
      "284580/284580 [==============================] - 8s 28us/step - loss: 0.5649 - acc: 0.7055 - val_loss: 0.6172 - val_acc: 0.6676\n",
      "Epoch 79/100\n",
      "284580/284580 [==============================] - 8s 28us/step - loss: 0.5643 - acc: 0.7054 - val_loss: 0.6171 - val_acc: 0.6677\n",
      "Epoch 80/100\n",
      "284580/284580 [==============================] - 8s 28us/step - loss: 0.5642 - acc: 0.7063 - val_loss: 0.6166 - val_acc: 0.6668\n",
      "Epoch 81/100\n",
      "284580/284580 [==============================] - 8s 28us/step - loss: 0.5636 - acc: 0.7068 - val_loss: 0.6193 - val_acc: 0.6670\n",
      "Epoch 82/100\n",
      "284580/284580 [==============================] - 8s 28us/step - loss: 0.5632 - acc: 0.7066 - val_loss: 0.6168 - val_acc: 0.6666\n",
      "Epoch 83/100\n",
      "284580/284580 [==============================] - 8s 27us/step - loss: 0.5631 - acc: 0.7073 - val_loss: 0.6177 - val_acc: 0.6672\n",
      "Epoch 84/100\n",
      "284580/284580 [==============================] - 7s 23us/step - loss: 0.5630 - acc: 0.7068 - val_loss: 0.6169 - val_acc: 0.6670\n",
      "Epoch 85/100\n",
      "284580/284580 [==============================] - 7s 24us/step - loss: 0.5625 - acc: 0.7072 - val_loss: 0.6203 - val_acc: 0.6665\n",
      "Epoch 86/100\n",
      "284580/284580 [==============================] - 7s 24us/step - loss: 0.5621 - acc: 0.7071 - val_loss: 0.6183 - val_acc: 0.6664\n",
      "Epoch 87/100\n",
      "284580/284580 [==============================] - 7s 24us/step - loss: 0.5623 - acc: 0.7082 - val_loss: 0.6196 - val_acc: 0.6680\n",
      "Epoch 88/100\n",
      "284580/284580 [==============================] - 7s 24us/step - loss: 0.5613 - acc: 0.7082 - val_loss: 0.6186 - val_acc: 0.6672\n",
      "Epoch 89/100\n",
      "284580/284580 [==============================] - 7s 24us/step - loss: 0.5614 - acc: 0.7088 - val_loss: 0.6196 - val_acc: 0.6672\n",
      "Epoch 90/100\n",
      "284580/284580 [==============================] - 7s 23us/step - loss: 0.5608 - acc: 0.7083 - val_loss: 0.6214 - val_acc: 0.6661\n",
      "Epoch 91/100\n",
      "284580/284580 [==============================] - 7s 24us/step - loss: 0.5606 - acc: 0.7084 - val_loss: 0.6196 - val_acc: 0.6660\n",
      "Epoch 92/100\n",
      "284580/284580 [==============================] - 7s 24us/step - loss: 0.5607 - acc: 0.7094 - val_loss: 0.6202 - val_acc: 0.6665\n",
      "Epoch 93/100\n",
      "284580/284580 [==============================] - 7s 24us/step - loss: 0.5602 - acc: 0.7095 - val_loss: 0.6209 - val_acc: 0.6657\n",
      "Epoch 94/100\n",
      "284580/284580 [==============================] - 7s 23us/step - loss: 0.5601 - acc: 0.7097 - val_loss: 0.6201 - val_acc: 0.6662\n",
      "Epoch 95/100\n",
      "284580/284580 [==============================] - 7s 24us/step - loss: 0.5593 - acc: 0.7093 - val_loss: 0.6210 - val_acc: 0.6657\n",
      "Epoch 96/100\n",
      "284580/284580 [==============================] - 7s 24us/step - loss: 0.5591 - acc: 0.7096 - val_loss: 0.6185 - val_acc: 0.6651\n",
      "Epoch 97/100\n",
      "284580/284580 [==============================] - 7s 24us/step - loss: 0.5592 - acc: 0.7105 - val_loss: 0.6217 - val_acc: 0.6662\n",
      "Epoch 98/100\n",
      "284580/284580 [==============================] - 7s 24us/step - loss: 0.5589 - acc: 0.7104 - val_loss: 0.6214 - val_acc: 0.6656\n",
      "Epoch 99/100\n",
      "284580/284580 [==============================] - 7s 23us/step - loss: 0.5586 - acc: 0.7104 - val_loss: 0.6210 - val_acc: 0.6661\n",
      "Epoch 100/100\n",
      "284580/284580 [==============================] - 7s 23us/step - loss: 0.5580 - acc: 0.7104 - val_loss: 0.6226 - val_acc: 0.6667\n"
     ]
    },
    {
     "data": {
      "text/plain": [
       "<keras.callbacks.History at 0x7f434771f198>"
      ]
     },
     "execution_count": 28,
     "metadata": {},
     "output_type": "execute_result"
    }
   ],
   "source": [
    "model.fit(x=data_train,\n",
    "          y=label_train,\n",
    "          epochs=100,\n",
    "          batch_size=256,\n",
    "          #verbose=2,\n",
    "          validation_split=0.2,\n",
    "          callbacks=[history]\n",
    "          )"
   ]
  },
  {
   "cell_type": "markdown",
   "metadata": {},
   "source": [
    "调参能有小幅度提升，但都在66.5%附近，没有5%的提升，所以放弃"
   ]
  },
  {
   "cell_type": "code",
   "execution_count": 29,
   "metadata": {},
   "outputs": [
    {
     "name": "stdout",
     "output_type": "stream",
     "text": [
      "88932/88932 [==============================] - 4s 44us/step\n",
      "Test score: 0.6220919212359668\n",
      "Test accuracy: 0.6656996356766968\n"
     ]
    }
   ],
   "source": [
    "score = model.evaluate(x=data_test,\n",
    "                       y=label_test\n",
    "                       )\n",
    "\n",
    "print('Test score:', score[0])\n",
    "print('Test accuracy:', score[1])\n"
   ]
  },
  {
   "cell_type": "code",
   "execution_count": 30,
   "metadata": {},
   "outputs": [
    {
     "data": {
      "image/png": "[encoded data removed]",
      "text/plain": [
       "<Figure size 432x288 with 1 Axes>"
      ]
     },
     "metadata": {},
     "output_type": "display_data"
    }
   ],
   "source": [
    "#绘制acc-loss曲线\n",
    "history.loss_plot('epoch')"
   ]
  },
  {
   "cell_type": "code",
   "execution_count": 31,
   "metadata": {},
   "outputs": [
    {
     "name": "stdout",
     "output_type": "stream",
     "text": [
      "(88932, 2)\n",
      "[[0.79982984 0.20017017]\n",
      " [0.22347274 0.7765272 ]\n",
      " [0.57646954 0.42353043]\n",
      " [0.10053978 0.8994602 ]\n",
      " [0.78566957 0.21433045]\n",
      " [0.3199546  0.68004537]\n",
      " [0.21628714 0.7837128 ]\n",
      " [0.399895   0.600105  ]\n",
      " [0.68988746 0.3101125 ]\n",
      " [0.2763893  0.72361076]\n",
      " [0.49354813 0.5064519 ]\n",
      " [0.50335556 0.49664444]\n",
      " [0.07665477 0.9233452 ]\n",
      " [0.84294385 0.15705612]\n",
      " [0.1930811  0.8069189 ]\n",
      " [0.591469   0.40853107]\n",
      " [0.21617974 0.7838202 ]\n",
      " [0.57035387 0.42964613]\n",
      " [0.51708657 0.48291346]\n",
      " [0.32079804 0.679202  ]\n",
      " [0.516809   0.483191  ]\n",
      " [0.40118858 0.59881145]\n",
      " [0.09174817 0.90825176]\n",
      " [0.59168357 0.40831646]\n",
      " [0.06552513 0.9344749 ]\n",
      " [0.6571987  0.34280133]\n",
      " [0.35120317 0.6487968 ]\n",
      " [0.6022796  0.3977204 ]\n",
      " [0.7129908  0.28700918]\n",
      " [0.3716592  0.6283408 ]]\n"
     ]
    }
   ],
   "source": [
    "dense1_layer_model = Model(inputs=model.input,  \n",
    "                                     outputs=model.get_layer('ou').output)  \n",
    "#以这个model的预测值作为输出 \n",
    "dense1_output = dense1_layer_model.predict(data_test)  \n",
    "  \n",
    "print(dense1_output.shape)  \n",
    "print(dense1_output[30:60])"
   ]
  },
  {
   "cell_type": "code",
   "execution_count": 32,
   "metadata": {},
   "outputs": [
    {
     "name": "stdout",
     "output_type": "stream",
     "text": [
      "[[0.79982984 0.20017017]\n",
      " [0.22347274 0.7765272 ]\n",
      " [0.57646954 0.42353043]\n",
      " [0.10053978 0.8994602 ]\n",
      " [0.78566957 0.21433045]\n",
      " [0.3199546  0.68004537]\n",
      " [0.21628714 0.7837128 ]\n",
      " [0.399895   0.600105  ]\n",
      " [0.68988746 0.3101125 ]\n",
      " [0.2763893  0.72361076]\n",
      " [0.49354813 0.5064519 ]\n",
      " [0.50335556 0.49664444]\n",
      " [0.07665477 0.9233452 ]\n",
      " [0.84294385 0.15705612]\n",
      " [0.1930811  0.8069189 ]\n",
      " [0.591469   0.40853107]\n",
      " [0.21617974 0.7838202 ]\n",
      " [0.57035387 0.42964613]\n",
      " [0.51708657 0.48291346]\n",
      " [0.32079804 0.679202  ]\n",
      " [0.516809   0.483191  ]\n",
      " [0.40118858 0.59881145]\n",
      " [0.09174817 0.90825176]\n",
      " [0.59168357 0.40831646]\n",
      " [0.06552513 0.9344749 ]\n",
      " [0.6571987  0.34280133]\n",
      " [0.35120317 0.6487968 ]\n",
      " [0.6022796  0.3977204 ]\n",
      " [0.7129908  0.28700918]\n",
      " [0.3716592  0.6283408 ]]\n"
     ]
    }
   ],
   "source": [
    "print(dense1_output[30:60])"
   ]
  },
  {
   "cell_type": "code",
   "execution_count": 33,
   "metadata": {},
   "outputs": [
    {
     "name": "stdout",
     "output_type": "stream",
     "text": [
      "[[0.6190927  0.38090736]\n",
      " [0.6321893  0.36781073]\n",
      " [0.8439765  0.15602347]\n",
      " [0.7270957  0.27290434]\n",
      " [0.5790754  0.42092463]\n",
      " [0.7527262  0.24727383]\n",
      " [0.7277782  0.27222183]\n",
      " [0.6241927  0.37580732]\n",
      " [0.72621804 0.27378193]\n",
      " [0.55965185 0.44034815]\n",
      " [0.6669295  0.33307058]\n",
      " [0.89656305 0.10343696]\n",
      " [0.5284189  0.47158107]\n",
      " [0.66130525 0.3386948 ]\n",
      " [0.79982984 0.20017017]\n",
      " [0.57646954 0.42353043]\n",
      " [0.78566957 0.21433045]\n",
      " [0.68988746 0.3101125 ]\n",
      " [0.50335556 0.49664444]\n",
      " [0.84294385 0.15705612]]\n"
     ]
    }
   ],
   "source": [
    "print(dense1_output[dense1_output[:,0] > 0.5][0:20])"
   ]
  },
  {
   "cell_type": "code",
   "execution_count": 34,
   "metadata": {},
   "outputs": [],
   "source": [
    "del model"
   ]
  },
  {
   "cell_type": "code",
   "execution_count": null,
   "metadata": {},
   "outputs": [],
   "source": []
  }
 ],
 "metadata": {
  "kernelspec": {
   "display_name": "Python [conda env:tensorflow_p36]",
   "language": "python",
   "name": "conda-env-tensorflow_p36-py"
  },
  "language_info": {
   "codemirror_mode": {
    "name": "ipython",
    "version": 3
   },
   "file_extension": ".py",
   "mimetype": "text/x-python",
   "name": "python",
   "nbconvert_exporter": "python",
   "pygments_lexer": "ipython3",
   "version": "3.6.4"
  }
 },
 "nbformat": 4,
 "nbformat_minor": 2
}
